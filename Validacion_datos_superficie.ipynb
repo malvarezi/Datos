{
 "cells": [
  {
   "cell_type": "code",
   "execution_count": 7,
   "metadata": {
    "collapsed": false
   },
   "outputs": [
    {
     "ename": "ImportError",
     "evalue": "libmfhdf.so.0: cannot open shared object file: No such file or directory",
     "output_type": "error",
     "traceback": [
      "\u001b[1;31m---------------------------------------------------------------------------\u001b[0m",
      "\u001b[1;31mImportError\u001b[0m                               Traceback (most recent call last)",
      "\u001b[1;32m<ipython-input-7-ef5d930d3104>\u001b[0m in \u001b[0;36m<module>\u001b[1;34m()\u001b[0m\n\u001b[0;32m      2\u001b[0m \u001b[1;32mimport\u001b[0m \u001b[0mnumpy\u001b[0m \u001b[1;32mas\u001b[0m \u001b[0mnp\u001b[0m\u001b[1;33m\u001b[0m\u001b[0m\n\u001b[0;32m      3\u001b[0m \u001b[1;33m\u001b[0m\u001b[0m\n\u001b[1;32m----> 4\u001b[1;33m \u001b[1;32mfrom\u001b[0m \u001b[0mnetCDF4\u001b[0m \u001b[1;32mimport\u001b[0m \u001b[0mDataset\u001b[0m\u001b[1;33m,\u001b[0m \u001b[0mnum2date\u001b[0m\u001b[1;33m,\u001b[0m \u001b[0mdate2index\u001b[0m\u001b[1;33m\u001b[0m\u001b[0m\n\u001b[0m\u001b[0;32m      5\u001b[0m \u001b[1;31m#from osgeo import gdal\u001b[0m\u001b[1;33m\u001b[0m\u001b[1;33m\u001b[0m\u001b[0m\n\u001b[0;32m      6\u001b[0m \u001b[1;32mfrom\u001b[0m \u001b[0mmatplotlib\u001b[0m\u001b[1;33m.\u001b[0m\u001b[0mmlab\u001b[0m \u001b[1;32mimport\u001b[0m \u001b[0mgriddata\u001b[0m\u001b[1;33m\u001b[0m\u001b[0m\n",
      "\u001b[1;32m/home/mili/anaconda2/lib/python2.7/site-packages/netCDF4/__init__.py\u001b[0m in \u001b[0;36m<module>\u001b[1;34m()\u001b[0m\n\u001b[0;32m      1\u001b[0m \u001b[1;31m# init for netCDF4. package\u001b[0m\u001b[1;33m\u001b[0m\u001b[1;33m\u001b[0m\u001b[0m\n\u001b[0;32m      2\u001b[0m \u001b[1;31m# Docstring comes from extension module _netCDF4.\u001b[0m\u001b[1;33m\u001b[0m\u001b[1;33m\u001b[0m\u001b[0m\n\u001b[1;32m----> 3\u001b[1;33m \u001b[1;32mfrom\u001b[0m \u001b[1;33m.\u001b[0m\u001b[0m_netCDF4\u001b[0m \u001b[1;32mimport\u001b[0m \u001b[1;33m*\u001b[0m\u001b[1;33m\u001b[0m\u001b[0m\n\u001b[0m\u001b[0;32m      4\u001b[0m \u001b[1;31m# Need explicit imports for names beginning with underscores\u001b[0m\u001b[1;33m\u001b[0m\u001b[1;33m\u001b[0m\u001b[0m\n\u001b[0;32m      5\u001b[0m \u001b[1;32mfrom\u001b[0m \u001b[1;33m.\u001b[0m\u001b[0m_netCDF4\u001b[0m \u001b[1;32mimport\u001b[0m \u001b[0m__doc__\u001b[0m\u001b[1;33m,\u001b[0m \u001b[0m__pdoc__\u001b[0m\u001b[1;33m\u001b[0m\u001b[0m\n",
      "\u001b[1;31mImportError\u001b[0m: libmfhdf.so.0: cannot open shared object file: No such file or directory"
     ]
    }
   ],
   "source": [
    "from xlrd import open_workbook  # para abrir el excel\n",
    "import numpy as np\n",
    "\n",
    "from netCDF4 import Dataset, num2date, date2index  \n",
    "#from osgeo import gdal\n",
    "from matplotlib.mlab import griddata\n",
    "#from scipy.interpolate import griddata\n",
    "import matplotlib.pyplot as plt\n",
    "from mpl_toolkits.basemap import Basemap\n",
    "%matplotlib inline\n",
    "\n"
   ]
  },
  {
   "cell_type": "code",
   "execution_count": null,
   "metadata": {
    "collapsed": true
   },
   "outputs": [],
   "source": [
    "############## Validación datos de estaciones de superficie ###################"
   ]
  },
  {
   "cell_type": "code",
   "execution_count": 3,
   "metadata": {
    "collapsed": false
   },
   "outputs": [],
   "source": [
    "## Abro los datos de las estaciones\n",
    "datos_pp = open_workbook('datos_val36hs_17AGO.xls')\n",
    "sheet_names = datos_pp.sheet_names()  # List sheet names, and pull a sheet by name\n",
    "xl_sheet = datos_pp.sheet_by_name(sheet_names[0])\n",
    "# Lee los valores de cada columna\n",
    "lat_obs = xl_sheet.col_values(1)\n",
    "lon_obs = xl_sheet.col_values(2)\n",
    "pp_36hs_obs = xl_sheet.col_values(3)\n"
   ]
  },
  {
   "cell_type": "code",
   "execution_count": 4,
   "metadata": {
    "collapsed": false
   },
   "outputs": [
    {
     "data": {
      "text/plain": [
       "166"
      ]
     },
     "execution_count": 4,
     "metadata": {},
     "output_type": "execute_result"
    }
   ],
   "source": [
    "len(pp_36hs_obs)"
   ]
  },
  {
   "cell_type": "code",
   "execution_count": 5,
   "metadata": {
    "collapsed": false
   },
   "outputs": [
    {
     "ename": "NameError",
     "evalue": "name 'Dataset' is not defined",
     "output_type": "error",
     "traceback": [
      "\u001b[1;31m---------------------------------------------------------------------------\u001b[0m",
      "\u001b[1;31mNameError\u001b[0m                                 Traceback (most recent call last)",
      "\u001b[1;32m<ipython-input-5-d7934e8d4af0>\u001b[0m in \u001b[0;36m<module>\u001b[1;34m()\u001b[0m\n\u001b[0;32m      1\u001b[0m \u001b[1;31m## Abro los datos del modelo\u001b[0m\u001b[1;33m\u001b[0m\u001b[1;33m\u001b[0m\u001b[0m\n\u001b[1;32m----> 2\u001b[1;33m \u001b[0mf\u001b[0m \u001b[1;33m=\u001b[0m\u001b[0mDataset\u001b[0m\u001b[1;33m(\u001b[0m\u001b[1;34m'wrf_ppAcum_36hs.nc'\u001b[0m\u001b[1;33m)\u001b[0m\u001b[1;33m\u001b[0m\u001b[0m\n\u001b[0m\u001b[0;32m      3\u001b[0m \u001b[0mrainnc_36hs_wrf\u001b[0m \u001b[1;33m=\u001b[0m \u001b[0mf\u001b[0m\u001b[1;33m.\u001b[0m\u001b[0mvariables\u001b[0m\u001b[1;33m[\u001b[0m\u001b[1;34m'rainnc_36hs'\u001b[0m\u001b[1;33m]\u001b[0m\u001b[1;33m[\u001b[0m\u001b[1;33m:\u001b[0m\u001b[1;33m]\u001b[0m\u001b[1;33m\u001b[0m\u001b[0m\n\u001b[0;32m      4\u001b[0m \u001b[0mlat_wrf\u001b[0m \u001b[1;33m=\u001b[0m \u001b[0mf\u001b[0m\u001b[1;33m.\u001b[0m\u001b[0mvariables\u001b[0m\u001b[1;33m[\u001b[0m\u001b[1;34m'lat'\u001b[0m\u001b[1;33m]\u001b[0m\u001b[1;33m[\u001b[0m\u001b[1;33m:\u001b[0m\u001b[1;33m]\u001b[0m\u001b[1;33m\u001b[0m\u001b[0m\n\u001b[0;32m      5\u001b[0m \u001b[0mlon_wrf\u001b[0m \u001b[1;33m=\u001b[0m \u001b[0mf\u001b[0m\u001b[1;33m.\u001b[0m\u001b[0mvariables\u001b[0m\u001b[1;33m[\u001b[0m\u001b[1;34m'lon'\u001b[0m\u001b[1;33m]\u001b[0m\u001b[1;33m[\u001b[0m\u001b[1;33m:\u001b[0m\u001b[1;33m]\u001b[0m\u001b[1;33m\u001b[0m\u001b[0m\n",
      "\u001b[1;31mNameError\u001b[0m: name 'Dataset' is not defined"
     ]
    }
   ],
   "source": [
    "## Abro los datos del modelo\n",
    "f =Dataset('wrf_ppAcum_36hs.nc')\n",
    "rainnc_36hs_wrf = f.variables['rainnc_36hs'][:]\n",
    "lat_wrf = f.variables['lat'][:]\n",
    "lon_wrf = f.variables['lon'][:]"
   ]
  },
  {
   "cell_type": "code",
   "execution_count": 17,
   "metadata": {
    "collapsed": true
   },
   "outputs": [],
   "source": [
    "# Paso los datos del modelo a la retícula de las estaciones (sugerencia de Juan)\n",
    "# uso el método de interpolación nearest neighbord"
   ]
  },
  {
   "cell_type": "code",
   "execution_count": 47,
   "metadata": {
    "collapsed": false
   },
   "outputs": [],
   "source": [
    "pp_wrf_interpolada = griddata((lon_wrf.ravel(),lat_wrf.ravel()), rainnc_36hs_wrf.ravel(), (lon_obs, lat_obs), method = 'nearest')\n"
   ]
  },
  {
   "cell_type": "code",
   "execution_count": 48,
   "metadata": {
    "collapsed": false
   },
   "outputs": [
    {
     "data": {
      "text/plain": [
       "166"
      ]
     },
     "execution_count": 48,
     "metadata": {},
     "output_type": "execute_result"
    }
   ],
   "source": [
    "len(pp_wrf_interpolada)"
   ]
  },
  {
   "cell_type": "code",
   "execution_count": 51,
   "metadata": {
    "collapsed": false
   },
   "outputs": [
    {
     "ename": "TypeError",
     "evalue": "griddata() got multiple values for keyword argument 'method'",
     "output_type": "error",
     "traceback": [
      "\u001b[1;31m---------------------------------------------------------------------------\u001b[0m",
      "\u001b[1;31mTypeError\u001b[0m                                 Traceback (most recent call last)",
      "\u001b[1;32m<ipython-input-51-ce54038fce46>\u001b[0m in \u001b[0;36m<module>\u001b[1;34m()\u001b[0m\n\u001b[0;32m      4\u001b[0m \u001b[0mlon_mesh\u001b[0m\u001b[1;33m,\u001b[0m \u001b[0mlat_mesh\u001b[0m \u001b[1;33m=\u001b[0m \u001b[0mnp\u001b[0m\u001b[1;33m.\u001b[0m\u001b[0mmeshgrid\u001b[0m\u001b[1;33m(\u001b[0m\u001b[0mlon1\u001b[0m\u001b[1;33m,\u001b[0m\u001b[0mlat1\u001b[0m\u001b[1;33m)\u001b[0m\u001b[1;33m\u001b[0m\u001b[0m\n\u001b[0;32m      5\u001b[0m \u001b[1;31m## Interpolate at the points in lon_mesh, lat_mesh en nn\u001b[0m\u001b[1;33m\u001b[0m\u001b[1;33m\u001b[0m\u001b[0m\n\u001b[1;32m----> 6\u001b[1;33m \u001b[0mpp_obs_mesh_nn\u001b[0m \u001b[1;33m=\u001b[0m \u001b[0mgriddata\u001b[0m\u001b[1;33m(\u001b[0m\u001b[0mlon_obs\u001b[0m\u001b[1;33m,\u001b[0m \u001b[0mlat_obs\u001b[0m\u001b[1;33m,\u001b[0m \u001b[0mpp_36hs_obs\u001b[0m\u001b[1;33m,\u001b[0m \u001b[1;33m(\u001b[0m\u001b[0mlon_mesh\u001b[0m\u001b[1;33m,\u001b[0m \u001b[0mlat_mesh\u001b[0m\u001b[1;33m)\u001b[0m\u001b[1;33m,\u001b[0m \u001b[0mmethod\u001b[0m \u001b[1;33m=\u001b[0m \u001b[1;34m'nearest'\u001b[0m\u001b[1;33m)\u001b[0m\u001b[1;33m\u001b[0m\u001b[0m\n\u001b[0m\u001b[0;32m      7\u001b[0m \u001b[0mpp_wrf_mesh_nn\u001b[0m \u001b[1;33m=\u001b[0m \u001b[0mgriddata\u001b[0m\u001b[1;33m(\u001b[0m\u001b[0mlon_obs\u001b[0m\u001b[1;33m,\u001b[0m \u001b[0mlat_obs\u001b[0m\u001b[1;33m,\u001b[0m \u001b[0mpp_wrf_interpolada\u001b[0m\u001b[1;33m,\u001b[0m \u001b[1;33m(\u001b[0m\u001b[0mlon_mesh\u001b[0m\u001b[1;33m,\u001b[0m \u001b[0mlat_mesh\u001b[0m\u001b[1;33m)\u001b[0m\u001b[1;33m,\u001b[0m \u001b[0mmethod\u001b[0m \u001b[1;33m=\u001b[0m \u001b[1;34m'nearest'\u001b[0m\u001b[1;33m)\u001b[0m\u001b[1;33m\u001b[0m\u001b[0m\n",
      "\u001b[1;31mTypeError\u001b[0m: griddata() got multiple values for keyword argument 'method'"
     ]
    }
   ],
   "source": [
    "## grafico\n",
    "lat1 = np.arange(-55, -20, 0.036) #se interpola con una resolución de 4 km\n",
    "lon1 = np.arange(-78, -50, 0.036)\n",
    "lon_mesh, lat_mesh = np.meshgrid(lon1,lat1)\n",
    "## Interpolate at the points in lon_mesh, lat_mesh en nn\n",
    "pp_obs_mesh_nn = griddata(lon_obs, lat_obs, pp_36hs_obs, (lon_mesh, lat_mesh), method = 'nearest')\n",
    "pp_wrf_mesh_nn = griddata(lon_obs, lat_obs, pp_wrf_interpolada, (lon_mesh, lat_mesh), method = 'nearest')\n",
    "\n",
    "#http://students.mimuw.edu.pl/~pbechler/scipy_doc/generated/scipy.interpolate.griddata.html"
   ]
  },
  {
   "cell_type": "code",
   "execution_count": null,
   "metadata": {
    "collapsed": true
   },
   "outputs": [],
   "source": [
    "#Parámetros de la proyección Lambert\n",
    "lon_0 = -63.  \n",
    "lat_0 = -31.\n",
    "lat_1 = -31.\n",
    "lat_2 = -31.\n",
    "\n",
    "## Limites del campo\n",
    "minlat = -45\n",
    "maxlat = -20\n",
    "minlon = -70\n",
    "maxlon = -50\n",
    "\n",
    "## Tipo de proyeccion en el mapa: Lambert\n",
    "\n",
    "lamb = Basemap(projection='lcc',lon_0=lon_0,lat_0=lat_0,\\\n",
    "              llcrnrlat=minlat,urcrnrlat=maxlat, llcrnrlon=minlon,urcrnrlon=maxlon,\\\n",
    "              lat_1=lat_1,lat_2=lat_2,resolution='h',area_thresh=1000.)\n",
    "\n",
    "#cmap = plt.get_cmap('Spectral')\n",
    "levels = [0.1,10,20,30,40,50,60,70]\n",
    "x_mesh, y_mesh = lamb(lon_mesh, lat_mesh)"
   ]
  },
  {
   "cell_type": "code",
   "execution_count": null,
   "metadata": {
    "collapsed": true
   },
   "outputs": [],
   "source": [
    "fig_size[0] = 15\n",
    "fig_size[1] = 10\n",
    "plt.rcParams[\"figure.figsize\"] = fig_size\n",
    "\n",
    "fig = plt.figure(figsize=(12,10))\n",
    "plt.subplot(1,2,1)\n",
    "\n",
    "m = lamb.contourf(x_mesh, y_mesh, pp_obs_mesh_nn,levels = levels, cmap = my_cmap)\n",
    "\n",
    "x,y = lamb(lon_obs, lat_obs)\n",
    "smn = plt.scatter(x[1:85], y[1:85], marker= 'o', color = 'm', label = 'SMN')\n",
    "bcr = plt.scatter(x[85:115], y[85:115], marker= 'o', color = 'b', label = 'BCR')\n",
    "sl = plt.scatter(x[115:156], y[115:156], marker= 'o', color = 'g', label = 'SL')\n",
    "srrhh = plt.scatter(x[156:], y[156:], marker= 'o', color = 'r',  label = 'SRRHH')\n",
    "\n",
    "lamb.drawcoastlines()\n",
    "lamb.drawparallels(np.arange(-40.,-20.,5.),labels=[1,0,0,0]) # draw parallels\n",
    "lamb.drawmeridians(np.arange(-80.,-45.,5.),labels=[0,0,0,1]) # draw meridians\n",
    "plt.title('Datos de superficie') # add a title\n",
    "plt.colorbar(m, orientation='horizontal') \n",
    "\n",
    "##linear##\n",
    "plt.subplot(1,2,2)\n",
    "ml = lamb.contourf(x_mesh, y_mesh, pp_wrf_mesh_nn,levels = levels, cmap = my_cmap)\n",
    "x,y = lamb(lon_obs, lat_obs)\n",
    "plt.scatter(x[1:85], y[1:85], marker= 'o', color = 'm', label = 'SMN')\n",
    "plt.scatter(x[85:115], y[85:115], marker= 'o', color = 'b', label = 'BCR')\n",
    "plt.scatter(x[115:156], y[115:156], marker= 'o', color = 'g', label = 'SL')\n",
    "plt.scatter(x[156:], y[156:], marker= 'o', color = 'r', label = 'SRRHH')\n",
    "\n",
    "lamb.drawcoastlines()\n",
    "lamb.drawparallels(np.arange(-40.,-20.,5.),labels=[1,0,0,0]) # draw parallels\n",
    "lamb.drawmeridians(np.arange(-80.,-45.,5.),labels=[0,0,0,1]) # draw meridians\n",
    "plt.title('Datos de wrf') # add a title\n",
    "plt.colorbar(ml,orientation='horizontal') \n",
    "\n",
    "plt.suptitle('Datos de pp acumulada 24 hs', size = 20)\n",
    "legend = plt.legend((smn, bcr, sl, srrhh),('SMN', 'BCR', 'SL', 'SRRHH'), loc = 'best', bbox_to_anchor = (1., 1.02))\n",
    "#bbox_to_anchor sirve para sacar la legenda del plot\n",
    "\n",
    "plt.show()\n",
    "#plt.figlegend((smn, bcr),('SMN', '"
   ]
  },
  {
   "cell_type": "code",
   "execution_count": null,
   "metadata": {
    "collapsed": true
   },
   "outputs": [],
   "source": [
    "##Validación con datos de TRMM\n",
    "\n",
    "\n",
    "## Pasar WRF a la resolución de TRMM (4 km a 025º)\n",
    "\n",
    "## VER LO DE JUAN"
   ]
  }
 ],
 "metadata": {
  "kernelspec": {
   "display_name": "Python 2",
   "language": "python",
   "name": "python2"
  },
  "language_info": {
   "codemirror_mode": {
    "name": "ipython",
    "version": 2
   },
   "file_extension": ".py",
   "mimetype": "text/x-python",
   "name": "python",
   "nbconvert_exporter": "python",
   "pygments_lexer": "ipython2",
   "version": "2.7.11"
  }
 },
 "nbformat": 4,
 "nbformat_minor": 0
}
