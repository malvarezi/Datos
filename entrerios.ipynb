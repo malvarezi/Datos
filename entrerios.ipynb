{
 "cells": [
  {
   "cell_type": "code",
   "execution_count": 1,
   "metadata": {
    "collapsed": false
   },
   "outputs": [
    {
     "name": "stdout",
     "output_type": "stream",
     "text": [
      "Populating the interactive namespace from numpy and matplotlib\n"
     ]
    }
   ],
   "source": [
    "%pylab inline\n",
    "from requests import Session\n",
    "import pandas as pd\n",
    "from bs4 import BeautifulSoup"
   ]
  },
  {
   "cell_type": "code",
   "execution_count": 2,
   "metadata": {
    "collapsed": true
   },
   "outputs": [],
   "source": [
    "#LOAD ENTRE RIOS DATA\n",
    "\n",
    "session = Session()\n",
    "\n",
    "# HEAD requests ask for *just* the headers, which is all you need to grab the\n",
    "# session cookie\n",
    "session.head('http://www.centrales.bolsacer.org.ar/inicio/')\n",
    "\n",
    "response2 = session.post(\n",
    "    url='http://www.centrales.bolsacer.org.ar/inicio/xmlDatosEstaciones.php',\n",
    ")\n"
   ]
  },
  {
   "cell_type": "code",
   "execution_count": 3,
   "metadata": {
    "collapsed": false
   },
   "outputs": [
    {
     "name": "stderr",
     "output_type": "stream",
     "text": [
      "/home/pablu/anaconda3/lib/python3.5/site-packages/bs4/__init__.py:166: UserWarning: No parser was explicitly specified, so I'm using the best available HTML parser for this system (\"lxml\"). This usually isn't a problem, but if you run this code on another system, or in a different virtual environment, it may use a different parser and behave differently.\n",
      "\n",
      "To get rid of this warning, change this:\n",
      "\n",
      " BeautifulSoup([your markup])\n",
      "\n",
      "to this:\n",
      "\n",
      " BeautifulSoup([your markup], \"lxml\")\n",
      "\n",
      "  markup_type=markup_type))\n"
     ]
    }
   ],
   "source": [
    "soup2 = BeautifulSoup(response2.text)"
   ]
  },
  {
   "cell_type": "code",
   "execution_count": null,
   "metadata": {
    "collapsed": true
   },
   "outputs": [],
   "source": [
    "data2={}\n",
    "\n",
    "for es in soup2.find_all('estacion'): \n",
    "    vehicle = {child.name: child.text for child in es.findChildren()}\n",
    "    for v in vehicle.keys():\n",
    "#        data[v].append(vehicle[v])\n",
    "        data2.setdefault(v,[]).append(vehicle[v])"
   ]
  },
  {
   "cell_type": "code",
   "execution_count": null,
   "metadata": {
    "collapsed": true
   },
   "outputs": [],
   "source": [
    "wxframe2=pd.DataFrame.from_dict(data2, orient='columns', dtype=None)\n",
    "wxframe2\n",
    "\n",
    "#Genera un data frama, una matriz de pandas donde acepta numeros, strings, de todo. Pasa de los diccionarios a la matriz data"
   ]
  }
 ],
 "metadata": {
  "anaconda-cloud": {},
  "kernelspec": {
   "display_name": "Python [Root]",
   "language": "python",
   "name": "Python [Root]"
  },
  "language_info": {
   "codemirror_mode": {
    "name": "ipython",
    "version": 3
   },
   "file_extension": ".py",
   "mimetype": "text/x-python",
   "name": "python",
   "nbconvert_exporter": "python",
   "pygments_lexer": "ipython3",
   "version": "3.5.2"
  }
 },
 "nbformat": 4,
 "nbformat_minor": 0
}
