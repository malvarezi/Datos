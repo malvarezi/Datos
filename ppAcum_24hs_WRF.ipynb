{
 "cells": [
  {
   "cell_type": "code",
   "execution_count": null,
   "metadata": {
    "collapsed": true
   },
   "outputs": [],
   "source": [
    "#Este script toma la pp acumulada del WRF para dos tiempos distintos,\n",
    "#y obtiene la pp acumulada en ese período, grafica y lo guarda en netCDF\n",
    "\n",
    "## Mili 16 de agosto 2016 ##"
   ]
  },
  {
   "cell_type": "code",
   "execution_count": 1,
   "metadata": {
    "collapsed": false
   },
   "outputs": [
    {
     "ename": "ImportError",
     "evalue": "libmfhdf.so.0: cannot open shared object file: No such file or directory",
     "output_type": "error",
     "traceback": [
      "\u001b[1;31m---------------------------------------------------------------------------\u001b[0m",
      "\u001b[1;31mImportError\u001b[0m                               Traceback (most recent call last)",
      "\u001b[1;32m<ipython-input-1-89a71c91ec92>\u001b[0m in \u001b[0;36m<module>\u001b[1;34m()\u001b[0m\n\u001b[0;32m      6\u001b[0m \u001b[1;32mfrom\u001b[0m \u001b[0mmpl_toolkits\u001b[0m\u001b[1;33m.\u001b[0m\u001b[0mbasemap\u001b[0m \u001b[1;32mimport\u001b[0m \u001b[0mBasemap\u001b[0m\u001b[1;33m\u001b[0m\u001b[0m\n\u001b[0;32m      7\u001b[0m \u001b[1;33m\u001b[0m\u001b[0m\n\u001b[1;32m----> 8\u001b[1;33m \u001b[1;32mfrom\u001b[0m \u001b[0mnetCDF4\u001b[0m \u001b[1;32mimport\u001b[0m \u001b[0mDataset\u001b[0m\u001b[1;33m,\u001b[0m \u001b[0mnum2date\u001b[0m\u001b[1;33m,\u001b[0m \u001b[0mdate2index\u001b[0m      \u001b[1;31m# Librerías netCDF\u001b[0m\u001b[1;33m\u001b[0m\u001b[0m\n\u001b[0m\u001b[0;32m      9\u001b[0m \u001b[1;32mimport\u001b[0m \u001b[0mnetCDF4\u001b[0m\u001b[1;33m\u001b[0m\u001b[0m\n\u001b[0;32m     10\u001b[0m \u001b[0mget_ipython\u001b[0m\u001b[1;33m(\u001b[0m\u001b[1;33m)\u001b[0m\u001b[1;33m.\u001b[0m\u001b[0mmagic\u001b[0m\u001b[1;33m(\u001b[0m\u001b[1;34mu'matplotlib inline'\u001b[0m\u001b[1;33m)\u001b[0m\u001b[1;33m\u001b[0m\u001b[0m\n",
      "\u001b[1;32m/home/mili/anaconda2/lib/python2.7/site-packages/netCDF4/__init__.py\u001b[0m in \u001b[0;36m<module>\u001b[1;34m()\u001b[0m\n\u001b[0;32m      1\u001b[0m \u001b[1;31m# init for netCDF4. package\u001b[0m\u001b[1;33m\u001b[0m\u001b[1;33m\u001b[0m\u001b[0m\n\u001b[0;32m      2\u001b[0m \u001b[1;31m# Docstring comes from extension module _netCDF4.\u001b[0m\u001b[1;33m\u001b[0m\u001b[1;33m\u001b[0m\u001b[0m\n\u001b[1;32m----> 3\u001b[1;33m \u001b[1;32mfrom\u001b[0m \u001b[1;33m.\u001b[0m\u001b[0m_netCDF4\u001b[0m \u001b[1;32mimport\u001b[0m \u001b[1;33m*\u001b[0m\u001b[1;33m\u001b[0m\u001b[0m\n\u001b[0m\u001b[0;32m      4\u001b[0m \u001b[1;31m# Need explicit imports for names beginning with underscores\u001b[0m\u001b[1;33m\u001b[0m\u001b[1;33m\u001b[0m\u001b[0m\n\u001b[0;32m      5\u001b[0m \u001b[1;32mfrom\u001b[0m \u001b[1;33m.\u001b[0m\u001b[0m_netCDF4\u001b[0m \u001b[1;32mimport\u001b[0m \u001b[0m__doc__\u001b[0m\u001b[1;33m,\u001b[0m \u001b[0m__pdoc__\u001b[0m\u001b[1;33m\u001b[0m\u001b[0m\n",
      "\u001b[1;31mImportError\u001b[0m: libmfhdf.so.0: cannot open shared object file: No such file or directory"
     ]
    }
   ],
   "source": [
    "import fileinput\n",
    "import numpy as np\n",
    "from glob import glob\n",
    "from scipy.io import netcdf\n",
    "import matplotlib.pyplot as plt\n",
    "from mpl_toolkits.basemap import Basemap\n",
    "\n",
    "from netCDF4 import Dataset, num2date, date2index      # Librerías netCDF\n",
    "import netCDF4\n",
    "%matplotlib inline\n"
   ]
  },
  {
   "cell_type": "code",
   "execution_count": 18,
   "metadata": {
    "collapsed": true
   },
   "outputs": [],
   "source": [
    "#función que genera la propia barra de colores en RGB\n",
    "\n",
    "def make_cmap(colors, position=None, bit=False):\n",
    "#    '''\n",
    "#    make_cmap takes a list of tuples which contain RGB values. The RGB\n",
    "#    values may either be in 8-bit [0 to 255] (in which bit must be set to\n",
    "#    True when called) or arithmetic [0 to 1] (default). make_cmap returns\n",
    "#    a cmap with equally spaced colors.\n",
    "#    Arrange your tuples so that the first color is the lowest value for the\n",
    "#    colorbar and the last is the highest.\n",
    "#    position contains values from 0 to 1 to dictate the location of each color.\n",
    "#    '''\n",
    "    import matplotlib as mpl\n",
    "    import numpy as np\n",
    "    bit_rgb = np.linspace(0,1,256)\n",
    "    if position == None:\n",
    "        position = np.linspace(0,1,len(colors))\n",
    "    else:\n",
    "        if len(position) != len(colors):\n",
    "            sys.exit(\"position length must be the same as colors\")\n",
    "        elif position[0] != 0 or position[-1] != 1:\n",
    "            sys.exit(\"position must start with 0 and end with 1\")\n",
    "    if bit:\n",
    "        for i in range(len(colors)):\n",
    "            colors[i] = (bit_rgb[colors[i][0]],\n",
    "                         bit_rgb[colors[i][1]],\n",
    "                         bit_rgb[colors[i][2]])\n",
    "    cdict = {'red':[], 'green':[], 'blue':[]}\n",
    "    for pos, color in zip(position, colors):\n",
    "        cdict['red'].append((pos, color[0], color[0]))\n",
    "        cdict['green'].append((pos, color[1], color[1]))\n",
    "        cdict['blue'].append((pos, color[2], color[2]))\n",
    "\n",
    "    cmap = mpl.colors.LinearSegmentedColormap('my_colormap',cdict,256)\n",
    "    return cmap\n"
   ]
  },
  {
   "cell_type": "code",
   "execution_count": 19,
   "metadata": {
    "collapsed": true
   },
   "outputs": [],
   "source": [
    "fnames = glob('wrfout_*')\n"
   ]
  },
  {
   "cell_type": "code",
   "execution_count": 20,
   "metadata": {
    "collapsed": false
   },
   "outputs": [
    {
     "name": "stdout",
     "output_type": "stream",
     "text": [
      "22_21\n",
      "22_22\n",
      "22_15\n",
      "23_04\n",
      "22_23\n",
      "22_20\n",
      "22_12\n",
      "23_00\n",
      "23_01\n",
      "23_03\n",
      "22_16\n",
      "22_17\n",
      "22_19\n",
      "22_18\n",
      "23_11\n",
      "23_07\n",
      "22_14\n",
      "22_13\n",
      "23_05\n",
      "23_09\n",
      "23_06\n",
      "23_02\n",
      "23_12\n",
      "23_08\n",
      "23_10\n"
     ]
    },
    {
     "name": "stderr",
     "output_type": "stream",
     "text": [
      "/home/mili/anaconda2/lib/python2.7/site-packages/scipy/io/netcdf.py:297: RuntimeWarning: Cannot close a netcdf_file opened with mmap=True, when netcdf_variables or arrays referring to its data still exist. All data arrays obtained from such files refer directly to data on disk, and must be copied before the file can be cleanly closed. (See netcdf_file docstring for more information on mmap.)\n",
      "  ), category=RuntimeWarning)\n"
     ]
    }
   ],
   "source": [
    "#Busco la precipitación acumulada hasta las 12 horas del dia 22\n",
    "i=0\n",
    "while i < len(fnames): \n",
    "    f =netcdf.netcdf_file(fnames[i]) \n",
    "    print(fnames[i][19:24])\n",
    "    if fnames[i][19:24] == '22_12':\n",
    "        rainnc_22_12 = f.variables['RAINNC'][0,:,:]\n",
    "        lat_wrf_22_12 = f.variables['XLAT'][0,:,:]\n",
    "        lon_wrf_22_12 = f.variables['XLONG'][0,:,:]\n",
    "        \n",
    "    i = i+1\n",
    "       "
   ]
  },
  {
   "cell_type": "code",
   "execution_count": 21,
   "metadata": {
    "collapsed": false
   },
   "outputs": [
    {
     "name": "stdout",
     "output_type": "stream",
     "text": [
      "22_21\n",
      "22_22\n",
      "22_15\n",
      "23_04\n",
      "22_23\n",
      "22_20\n",
      "22_12\n",
      "23_00\n",
      "23_01\n",
      "23_03\n",
      "22_16\n",
      "22_17\n",
      "22_19\n",
      "22_18\n",
      "23_11\n",
      "23_07\n",
      "22_14\n",
      "22_13\n",
      "23_05\n",
      "23_09\n",
      "23_06\n",
      "23_02\n",
      "23_12\n",
      "23_08\n",
      "23_10\n"
     ]
    }
   ],
   "source": [
    "#Busco la precipitación acumulada hasta las 12 horas del dia 23\n",
    "i=0\n",
    "while i < len(fnames): \n",
    "    f =netcdf.netcdf_file(fnames[i]) \n",
    "    print(fnames[i][19:24])\n",
    "    if fnames[i][19:24] == '23_12':\n",
    "        rainnc_23_12 = f.variables['RAINNC'][0,:,:]\n",
    "        lat_wrf_23_12 = f.variables['XLAT'][0,:,:]\n",
    "        lon_wrf_23_12 = f.variables['XLONG'][0,:,:]\n",
    "        \n",
    "    i = i+1\n",
    "    \n"
   ]
  },
  {
   "cell_type": "code",
   "execution_count": 22,
   "metadata": {
    "collapsed": false
   },
   "outputs": [
    {
     "data": {
      "text/plain": [
       "(589, 699)"
      ]
     },
     "execution_count": 22,
     "metadata": {},
     "output_type": "execute_result"
    }
   ],
   "source": [
    "rainnc_23_12.shape"
   ]
  },
  {
   "cell_type": "code",
   "execution_count": 23,
   "metadata": {
    "collapsed": false
   },
   "outputs": [],
   "source": [
    "#Resto ambos valores acumulados de precipitación\n",
    "\n",
    "\n",
    "ppAcum36 = np.zeros((589, 699),dtype='f') \n",
    "rainnc_36hs = rainnc_23_12 - rainnc_22_12"
   ]
  },
  {
   "cell_type": "code",
   "execution_count": 24,
   "metadata": {
    "collapsed": false
   },
   "outputs": [],
   "source": [
    "## Grafico\n",
    "imax,jmax = lat_wrf_22_12.shape\n",
    "minlat = lat_wrf_22_12[0,0]\n",
    "maxlat = lat_wrf_22_12[imax-1,jmax-1]\n",
    "minlon = lon_wrf_22_12[0,0]\n",
    "maxlon = lon_wrf_22_12[imax-1,jmax-1] \n",
    "\n",
    "#Parámetros de la proyección Lambert\n",
    "lon_0 = -63.  \n",
    "lat_0 = -31.\n",
    "lat_1 = -31.\n",
    "lat_2 = -31."
   ]
  },
  {
   "cell_type": "code",
   "execution_count": 29,
   "metadata": {
    "collapsed": false
   },
   "outputs": [
    {
     "data": {
      "text/plain": [
       "<matplotlib.colorbar.Colorbar at 0x7f36083d8f90>"
      ]
     },
     "execution_count": 29,
     "metadata": {},
     "output_type": "execute_result"
    },
    {
     "data": {
      "image/png": "[encoded data removed]",
      "text/plain": [
       "<matplotlib.figure.Figure at 0x7f3608594450>"
      ]
     },
     "metadata": {},
     "output_type": "display_data"
    }
   ],
   "source": [
    "colors = [(0,255,0), (0,0,255), (255,0,0)] # This example uses the 8-bit RGB\n",
    "### Call the function make_cmap which returns your colormap\n",
    "my_cmap = make_cmap(colors, bit=True)\n",
    "###Genero los graficos de PP acumulada \n",
    "plt.figure(figsize=(15,5))\n",
    "#plt.subplot(1,3,1)\n",
    "lamb = Basemap(projection='lcc',lon_0=lon_0,lat_0=lat_0,\\\n",
    "              llcrnrlat=minlat,urcrnrlat=maxlat, llcrnrlon=minlon,urcrnrlon=maxlon,\\\n",
    "              lat_1=lat_1,lat_2=lat_2,resolution='h',area_thresh=1000.)\n",
    "levels = [1,25,50,75,100,125]\n",
    "#,150,175,200,250,300,350,400,450,500,1000,2000]\n",
    "#levels = [1,25,50,75,100,125,150,175,200,250,300,350,400,450,500]\n",
    "x2, y2 = lamb(lon_wrf_22_12,lat_wrf_22_12)\n",
    "cmap = plt.get_cmap('viridis')\n",
    "#cmap = plt.get_cmap('Spectral')\n",
    "lamb.contourf(x2,y2,rainnc_36hs, levels=levels, cmap=cmap)\n",
    "#lamb.contourf(x2,y2,rainnc_36hs, levels=levels, extend='both', cmap=cmap) #\"extended\" genera la barra de colores con los triangulos\n",
    "#lamb.contourf(x2,y2,rainnc_36hs, levels=levels, cmap=my_cmap)\n",
    "lamb.drawcoastlines()\n",
    "plt.suptitle('Precipitacion acumulada WRF a 24 hs a partir del 22 a las 12Z', size=20)\n",
    "lamb.colorbar()"
   ]
  },
  {
   "cell_type": "code",
   "execution_count": 25,
   "metadata": {
    "collapsed": false
   },
   "outputs": [],
   "source": [
    "#############################################################################\n",
    "# Se guarda todo en un nuevo netcdf para poder realizar la validacion luego #\n",
    "#############################################################################\n",
    "    \n",
    "try: newdata.close()  # por seguridad, nos aseguramos que el archivo no esté abierto ya \n",
    "except: pass\n",
    "newfile='/datos/estaciones/wrf_ppAcum_36hs.nc'  \n",
    "newdata=netCDF4.Dataset(newfile,'w')\n",
    "newdata.title=\"Precipitacion acumulada entre 12Z del 22 a las 12Z del 23\"\n",
    "newdata.Conventions=\"COARDS\"\n",
    "newdata.dataType='Grid'\n",
    "newdata.history='SDF Netcdf con los cálculos de precipitacion acumulada entre 12Z del 22 a las 12Z del 23'\n",
    "\n",
    "newdata.createDimension('lat_wrf_22_12', lat_wrf_22_12.shape[0])\n",
    "newdata.createDimension('lon_wrf_22_12', lon_wrf_22_12.shape[1])\n",
    "#newdata.createDimension('time', len(fnames))\n",
    "\n",
    "# Ahora guardo todas las variables y flags que calculé\n",
    "### There is a little more flexibility with this variables attributes!\n",
    "### (f4=float32) ###\n",
    "\n",
    "lat_var=newdata.createVariable('lat','f4',('lat_wrf_22_12','lon_wrf_22_12'), fill_value=np.nan)\n",
    "lat_var.long_name='Latitud '\n",
    "lat_var.units='º'\n",
    "lat_var[:]=lat_wrf_22_12[:]\n",
    "\n",
    "lon_var=newdata.createVariable('lon','f4',('lat_wrf_22_12','lon_wrf_22_12'), fill_value=np.nan)\n",
    "lon_var.long_name='Longitud '\n",
    "lon_var.units='º'\n",
    "lon_var[:]=lon_wrf_22_12[:]\n",
    "\n",
    "rainnc_22_12_var=newdata.createVariable('rainnc_22_12','f4',('lat_wrf_22_12','lon_wrf_22_12'),fill_value=np.nan)\n",
    "rainnc_22_12_var.long_name='Accumulated total cumulus precipitation hasta 22 12 Z'\n",
    "rainnc_22_12_var.units='mm'\n",
    "rainnc_22_12_var[:]=rainnc_22_12[:,:]\n",
    "\n",
    "rainnc_23_12_var=newdata.createVariable('rainnc_23_12','f4',('lat_wrf_22_12','lon_wrf_22_12'),fill_value=np.nan)\n",
    "rainnc_23_12_var.long_name='Accumulated total cumulus precipitation hasta 23 12 Z'\n",
    "rainnc_23_12_var.units='mm'\n",
    "rainnc_23_12_var[:]=rainnc_23_12[:,:]\n",
    "\n",
    "rainnc_36hs_var=newdata.createVariable('rainnc_36hs','f4',('lat_wrf_22_12','lon_wrf_22_12'),fill_value=np.nan)\n",
    "rainnc_36hs_var.long_name='Accumulated total grid scale precipitation por 24hs'\n",
    "rainnc_36hs_var.units='mm'\n",
    "rainnc_36hs_var[:]=rainnc_36hs[:,:]\n",
    "\n",
    "newdata.close()\n",
    "\n"
   ]
  },
  {
   "cell_type": "code",
   "execution_count": null,
   "metadata": {
    "collapsed": true
   },
   "outputs": [],
   "source": []
  }
 ],
 "metadata": {
  "kernelspec": {
   "display_name": "Python 2",
   "language": "python",
   "name": "python2"
  },
  "language_info": {
   "codemirror_mode": {
    "name": "ipython",
    "version": 2
   },
   "file_extension": ".py",
   "mimetype": "text/x-python",
   "name": "python",
   "nbconvert_exporter": "python",
   "pygments_lexer": "ipython2",
   "version": "2.7.11"
  }
 },
 "nbformat": 4,
 "nbformat_minor": 0
}
